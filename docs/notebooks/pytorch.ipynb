{
 "cells": [
  {
   "cell_type": "markdown",
   "id": "pointed-honolulu",
   "metadata": {},
   "source": [
    "# PyTorch (coming soon)"
   ]
  },
  {
   "cell_type": "markdown",
   "id": "hundred-might",
   "metadata": {},
   "source": [
    "*AIQC is extensible. Support for PyTorch models coming soon.*"
   ]
  }
 ],
 "metadata": {
  "kernelspec": {
   "display_name": "Python 3",
   "language": "python",
   "name": "python3"
  },
  "language_info": {
   "codemirror_mode": {
    "name": "ipython",
    "version": 3
   },
   "file_extension": ".py",
   "mimetype": "text/x-python",
   "name": "python",
   "nbconvert_exporter": "python",
   "pygments_lexer": "ipython3",
   "version": "3.8.7"
  }
 },
 "nbformat": 4,
 "nbformat_minor": 5
}
