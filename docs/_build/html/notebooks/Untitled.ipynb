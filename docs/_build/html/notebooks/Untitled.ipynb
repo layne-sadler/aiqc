{
 "cells": [
  {
   "cell_type": "markdown",
   "id": "subtle-curve",
   "metadata": {},
   "source": [
    "# Simple Mode"
   ]
  },
  {
   "cell_type": "code",
   "execution_count": 2,
   "id": "meaning-revolution",
   "metadata": {},
   "outputs": [],
   "source": [
    "my_int = 9"
   ]
  },
  {
   "cell_type": "code",
   "execution_count": null,
   "id": "essential-animation",
   "metadata": {},
   "outputs": [],
   "source": []
  }
 ],
 "metadata": {
  "kernelspec": {
   "display_name": "Python 3",
   "language": "python",
   "name": "python3"
  },
  "language_info": {
   "codemirror_mode": {
    "name": "ipython",
    "version": 3
   },
   "file_extension": ".py",
   "mimetype": "text/x-python",
   "name": "python",
   "nbconvert_exporter": "python",
   "pygments_lexer": "ipython3",
   "version": "3.8.7"
  }
 },
 "nbformat": 4,
 "nbformat_minor": 5
}
